{
 "cells": [
  {
   "cell_type": "code",
   "execution_count": 3,
   "id": "48e161cd-dd44-4d8e-8f00-e68f97678c84",
   "metadata": {},
   "outputs": [],
   "source": [
    "def add1_tab (tab):\n",
    "    for outer_idx in range(len(tab)):\n",
    "        for inner_idx in range(len(tab[outer_idx])):\n",
    "            old_val = tab[outer_idx][inner_idx]\n",
    "            tab[outer_idx][inner_idx] = old_val + 1"
   ]
  },
  {
   "cell_type": "code",
   "execution_count": 4,
   "id": "049c70ba-e45d-44a4-b919-7963f76be5f4",
   "metadata": {},
   "outputs": [
    {
     "data": {
      "text/plain": [
       "1"
      ]
     },
     "execution_count": 4,
     "metadata": {},
     "output_type": "execute_result"
    }
   ],
   "source": [
    "1"
   ]
  },
  {
   "cell_type": "code",
   "execution_count": null,
   "id": "ce1d2ccc-1c61-4281-9036-425518e23168",
   "metadata": {},
   "outputs": [],
   "source": []
  },
  {
   "cell_type": "code",
   "execution_count": null,
   "id": "77258722-f83e-484c-a2d3-108418535b4e",
   "metadata": {},
   "outputs": [],
   "source": []
  },
  {
   "cell_type": "code",
   "execution_count": null,
   "id": "dca91a58-01fa-47d6-9e65-f8473753d9c4",
   "metadata": {},
   "outputs": [],
   "source": []
  },
  {
   "cell_type": "code",
   "execution_count": null,
   "id": "5dbb66bc-c127-4ec7-bafe-d4986bfb0eb8",
   "metadata": {},
   "outputs": [],
   "source": []
  },
  {
   "cell_type": "code",
   "execution_count": null,
   "id": "36c680c2-0836-432d-a937-db5a162c09a5",
   "metadata": {},
   "outputs": [],
   "source": []
  },
  {
   "cell_type": "code",
   "execution_count": null,
   "id": "1dcc29bc-58b0-49e7-89bc-5cbeba2a5ae6",
   "metadata": {},
   "outputs": [],
   "source": []
  },
  {
   "cell_type": "code",
   "execution_count": null,
   "id": "be195778-5a30-4f0a-b54c-a3bbf203cb6e",
   "metadata": {},
   "outputs": [],
   "source": []
  },
  {
   "cell_type": "code",
   "execution_count": null,
   "id": "7c330615-e091-4f7b-8f32-176b49481503",
   "metadata": {},
   "outputs": [],
   "source": []
  },
  {
   "cell_type": "code",
   "execution_count": null,
   "id": "5b1d2fe2-42c4-41d6-b9b7-2eceafa1ac2a",
   "metadata": {},
   "outputs": [],
   "source": []
  },
  {
   "cell_type": "code",
   "execution_count": null,
   "id": "eca0f92e-ed2c-4a6e-ae39-27aeb25569fa",
   "metadata": {},
   "outputs": [],
   "source": []
  },
  {
   "cell_type": "code",
   "execution_count": null,
   "id": "47432b50-91cc-41a6-af9a-97ba0c1aa21a",
   "metadata": {},
   "outputs": [],
   "source": []
  }
 ],
 "metadata": {
  "kernelspec": {
   "display_name": "Python 3 (ipykernel)",
   "language": "python",
   "name": "python3"
  },
  "language_info": {
   "codemirror_mode": {
    "name": "ipython",
    "version": 3
   },
   "file_extension": ".py",
   "mimetype": "text/x-python",
   "name": "python",
   "nbconvert_exporter": "python",
   "pygments_lexer": "ipython3",
   "version": "3.13.5"
  }
 },
 "nbformat": 4,
 "nbformat_minor": 5
}
