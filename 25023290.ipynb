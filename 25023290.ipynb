{
 "cells": [
  {
   "cell_type": "markdown",
   "id": "d398b586-61f7-4c74-b304-0218ec7bd734",
   "metadata": {},
   "source": [
    "W3A3"
   ]
  },
  {
   "cell_type": "code",
   "execution_count": null,
   "id": "091e1a2a-1e6b-419a-b663-003c6ca826f7",
   "metadata": {},
   "outputs": [],
   "source": [
    "n = int(input())\n",
    "if n&(n-1) == 0 :\n",
    "    print(\"Đúng\")\n",
    "else :\n",
    "    print(\"Sai\")"
   ]
  },
  {
   "cell_type": "markdown",
   "id": "bb455cf4-58d9-4d51-8b54-44714dd8d87b",
   "metadata": {},
   "source": [
    "W3A4"
   ]
  },
  {
   "cell_type": "code",
   "execution_count": null,
   "id": "3e9e1a66-1ae0-4988-80f4-e58d0eae48e6",
   "metadata": {},
   "outputs": [],
   "source": [
    "import math\n",
    "m,n=map(int,input().split())\n",
    "print(math.floor(m/n))"
   ]
  },
  {
   "cell_type": "markdown",
   "id": "8ce63f5d-15de-4665-8c77-11974f1a95b5",
   "metadata": {},
   "source": [
    "W3A5"
   ]
  },
  {
   "cell_type": "code",
   "execution_count": null,
   "id": "3fc2ddc8-eca7-4642-9404-b7713cb52f31",
   "metadata": {},
   "outputs": [],
   "source": [
    "import math\n",
    "m,n=map(int,input().split())\n",
    "print(math.ceil(m/n))"
   ]
  },
  {
   "cell_type": "markdown",
   "id": "3f138aa6-adb5-4531-a596-a9e3a054f953",
   "metadata": {},
   "source": [
    "W3A6"
   ]
  },
  {
   "cell_type": "code",
   "execution_count": null,
   "id": "0c93faa4-cedb-4fb1-8a31-934228a3255b",
   "metadata": {},
   "outputs": [],
   "source": [
    "n = int(input())\n",
    "if n % 2 == 0:\n",
    "    print(\"Even\")\n",
    "else : \n",
    "    print(\"Odd\")"
   ]
  },
  {
   "cell_type": "markdown",
   "id": "88fdc23b-8fb0-4214-a3ca-def4d367d111",
   "metadata": {},
   "source": [
    "W3A7"
   ]
  },
  {
   "cell_type": "code",
   "execution_count": null,
   "id": "9b1d7035-ef3c-4cdd-a0d6-82fafe78180a",
   "metadata": {},
   "outputs": [],
   "source": [
    "a,b = map(int,input().split())\n",
    "if a<0 and b<0 :\n",
    "    print(\"Yes\")\n",
    "else :\n",
    "    print(\"No\")"
   ]
  },
  {
   "cell_type": "markdown",
   "id": "c1d03848-206e-4aad-aa71-5b6caa4650f9",
   "metadata": {},
   "source": [
    "W3A8"
   ]
  },
  {
   "cell_type": "code",
   "execution_count": null,
   "id": "cd8e0b81-746a-48d9-8d00-1ffedd12b191",
   "metadata": {},
   "outputs": [],
   "source": [
    "a,b=map(str,input().split()) \n",
    "if len(a)>len(b):\n",
    "    print('True') \n",
    "else :\n",
    "    print('False')"
   ]
  },
  {
   "cell_type": "markdown",
   "id": "f82dee04-01c6-4a4c-9ec5-08f28e73d59e",
   "metadata": {},
   "source": [
    "W3A9"
   ]
  },
  {
   "cell_type": "code",
   "execution_count": null,
   "id": "27686a40-5561-4e28-8952-d6f5b8b092aa",
   "metadata": {},
   "outputs": [],
   "source": [
    "a,b,c = map(int,input().split())\n",
    "if a+b>c and b+c>a and c+a>b :\n",
    "    print(\"Yes\")\n",
    "else :\n",
    "    print(\"No\")"
   ]
  },
  {
   "cell_type": "markdown",
   "id": "27da2c51-a100-4a6a-95f8-386e2a19b431",
   "metadata": {},
   "source": [
    "W3A10"
   ]
  },
  {
   "cell_type": "code",
   "execution_count": null,
   "id": "be8e5010-268a-4ac3-8a56-20af54530dad",
   "metadata": {},
   "outputs": [],
   "source": [
    "a, b, c, d  = map(int, input().split())\n",
    "print(f\"Số lớn nhất trong bốn sô là: {max(a, b, c, d)}\")"
   ]
  },
  {
   "cell_type": "markdown",
   "id": "04c6bbfd-d32d-4653-b40a-27cee814677f",
   "metadata": {},
   "source": [
    "W3A11"
   ]
  },
  {
   "cell_type": "code",
   "execution_count": 2,
   "id": "49e8f331-1eef-4bc4-b893-ef45603e5cad",
   "metadata": {},
   "outputs": [
    {
     "name": "stdin",
     "output_type": "stream",
     "text": [
      " 4 5 6\n"
     ]
    },
    {
     "name": "stdout",
     "output_type": "stream",
     "text": [
      "Tam giác thường\n"
     ]
    }
   ],
   "source": [
    "a,b,c=map(int,input().split()) \n",
    "if a>0 and b>0 and c>0 :  \n",
    "   if (a+b)>c and (a+c)>b and (b+c)>a: \n",
    "      if a==b==c: \n",
    "          print('Tam giác đều') \n",
    "      elif a==b!=c or b==c!=a or c==a!=b: \n",
    "          print('Tam giác cân') \n",
    "      else: \n",
    "          print('Tam giác thường') \n",
    "   else: \n",
    "      print('Không phải tam giác') \n",
    "else: print('Độ dài cạnh là số dương')"
   ]
  },
  {
   "cell_type": "markdown",
   "id": "13b33417-f205-4b43-bc90-7c5a77ce4379",
   "metadata": {},
   "source": [
    "W3A12"
   ]
  },
  {
   "cell_type": "code",
   "execution_count": null,
   "id": "3c623794-3348-48ea-83f7-07c2454ab7b9",
   "metadata": {},
   "outputs": [],
   "source": [
    "x=int(input())\n",
    "if x%400==0 or (x%4==0 and x%100!=0):\n",
    "    print(\"nhuan\")\n",
    "else:\n",
    "    print(\"khong nhuan\")"
   ]
  },
  {
   "cell_type": "markdown",
   "id": "66683696-1b0c-4269-ba8a-2bfc2159760c",
   "metadata": {},
   "source": [
    "W3A14"
   ]
  },
  {
   "cell_type": "code",
   "execution_count": null,
   "id": "588a6ba8-1535-4ac4-b158-fdbb61a935f4",
   "metadata": {},
   "outputs": [],
   "source": [
    "a,b=map(float,input().split())\n",
    "if a==0 and b!=0:\n",
    "    print(\"vo nghiem\")\n",
    "elif a==0 and b==0:\n",
    "    print(\"vo so nghiem\")\n",
    "else:\n",
    "    print(f'{-b/a:.2f}')"
   ]
  },
  {
   "cell_type": "markdown",
   "id": "0ad20750-aab8-4922-9696-9634ce2e159b",
   "metadata": {},
   "source": [
    "W3A15"
   ]
  },
  {
   "cell_type": "code",
   "execution_count": null,
   "id": "64918e30-3533-45ca-a7fb-11ca8a6096b8",
   "metadata": {},
   "outputs": [],
   "source": [
    "diemtb=float(input()) \n",
    "if diemtb<0 or diemtb>10: \n",
    "    print('Nhập lại') \n",
    "else: \n",
    "    if diemtb>=8: print('Giỏi') \n",
    "    elif diemtb>=6.5: print('Khá') \n",
    "    elif diemtb>=5.0: print('Trung bình') \n",
    "    else: print('Yếu')"
   ]
  },
  {
   "cell_type": "markdown",
   "id": "6bcbcc37-1cdd-4831-a8fd-f18d2c0cfa16",
   "metadata": {},
   "source": [
    "W3A16"
   ]
  },
  {
   "cell_type": "code",
   "execution_count": null,
   "id": "553a9792-2c9a-4f7b-be76-325c6bff035e",
   "metadata": {},
   "outputs": [],
   "source": []
  },
  {
   "cell_type": "markdown",
   "id": "33569fd4-4079-491c-a179-718b6c0eb48e",
   "metadata": {},
   "source": [
    "W3A17"
   ]
  }
 ],
 "metadata": {
  "kernelspec": {
   "display_name": "Python 3 (ipykernel)",
   "language": "python",
   "name": "python3"
  },
  "language_info": {
   "codemirror_mode": {
    "name": "ipython",
    "version": 3
   },
   "file_extension": ".py",
   "mimetype": "text/x-python",
   "name": "python",
   "nbconvert_exporter": "python",
   "pygments_lexer": "ipython3",
   "version": "3.13.5"
  }
 },
 "nbformat": 4,
 "nbformat_minor": 5
}
