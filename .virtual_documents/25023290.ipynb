


n = int(input())
if n&(n-1) == 0 :
    print("Đúng")
else :
    print("Sai")





import math
m,n=map(int,input().split())
print(math.floor(m/n))





import math
m,n=map(int,input().split())
print(math.ceil(m/n))





n = int(input())
if n % 2 == 0:
    print("Even")
else : 
    print("Odd")





a,b = map(int,input().split())
if a<0 and b<0 :
    print("Yes")
else :
    print("No")





a,b=map(str,input().split()) 
if len(a)>len(b):
    print('True') 
else :
    print('False')





a,b,c = map(int,input().split())
if a+b>c and b+c>a and c+a>b :
    print("Yes")
else :
    print("No")





a, b, c, d  = map(int, input().split())
print(f"Số lớn nhất trong bốn sô là: {max(a, b, c, d)}")





a,b,c=map(int,input().split()) 
if a>0 and b>0 and c>0 :  
   if (a+b)>c and (a+c)>b and (b+c)>a: 
      if a==b==c: 
          print('Tam giác đều') 
      elif a==b!=c or b==c!=a or c==a!=b: 
          print('Tam giác cân') 
      else: 
          print('Tam giác thường') 
   else: 
      print('Không phải tam giác') 
else: print('Độ dài cạnh là số dương')





x=int(input())
if x%400==0 or (x%4==0 and x%100!=0):
    print("nhuan")
else:
    print("khong nhuan")





a,b=map(float,input().split())
if a==0 and b!=0:
    print("vo nghiem")
elif a==0 and b==0:
    print("vo so nghiem")
else:
    print(f'{-b/a:.2f}')





diemtb=float(input()) 
if diemtb<0 or diemtb>10: 
    print('Nhập lại') 
else: 
    if diemtb>=8: print('Giỏi') 
    elif diemtb>=6.5: print('Khá') 
    elif diemtb>=5.0: print('Trung bình') 
    else: print('Yếu')









